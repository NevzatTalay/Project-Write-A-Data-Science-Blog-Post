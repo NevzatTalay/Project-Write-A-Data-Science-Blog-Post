{
 "cells": [
  {
   "cell_type": "code",
   "execution_count": 6,
   "metadata": {},
   "outputs": [],
   "source": [
    "import numpy as np  # Sayısal hesaplamalar için\n",
    "import pandas as pd  # Veri çerçeveleriyle çalışmak için\n",
    "import matplotlib.pyplot as plt  # Grafikler çizmek için\n",
    "from sklearn.linear_model import LinearRegression, LogisticRegression  # Doğrusal regresyon modeli için\n",
    "from sklearn.model_selection import train_test_split  # Veriyi eğitim ve test kümelerine bölmek için\n",
    "from sklearn.metrics import r2_score, mean_squared_error  # Performans metrikleri için\n",
    "import seaborn as sns  # Görselleştirmeler için\n",
    "%matplotlib inline\n",
    "df = pd.read_csv('datasets/survey_results_public.csv')\n",
    "schema = pd.read_csv('datasets/survey_results_schema.csv')\n",
    "def create_dummy_df(df, cat_cols, dummy_na):\n",
    "    for col in  cat_cols:\n",
    "            # Her bir kategorik sütun için kukla değişken ekleyin, orijinal sütunu çıkarın\n",
    "        try:\n",
    "            df = pd.concat([df.drop(col, axis=1), pd.get_dummies(df[col], prefix=col, prefix_sep='_', drop_first=True, dummy_na=dummy_na)], axis=1)\n",
    "        except:\n",
    "            continue\n",
    "    return df\n",
    "def clean_fit_linear_mod(df, response_col, cat_cols, dummy_na, test_size=.3, rand_state=42):\n",
    "    df  = df.dropna(subset=[response_col], axis=0)\n",
    "    df = df.dropna(how='all', axis=1)\n",
    "    df = create_dummy_df(df, cat_cols, dummy_na)\n",
    "    fill_mean = lambda col: col.fillna(col.mean())\n",
    "    df = df.apply(fill_mean, axis=0)\n",
    "    X = df.drop(response_col, axis=1)\n",
    "    y = df[response_col]\n",
    "    X_train, X_test, y_train, y_test = train_test_split(X, y, test_size=test_size, random_state=rand_state)\n",
    "    lm_model = LinearRegression() # Instantiate\n",
    "    lm_model.fit(X_train, y_train) #Fit\n",
    "    y_test_preds = lm_model.predict(X_test)\n",
    "    y_train_preds = lm_model.predict(X_train)\n",
    "    test_score = r2_score(y_test, y_test_preds)\n",
    "    train_score = r2_score(y_train, y_train_preds)\n",
    "    return test_score, train_score, lm_model, X_train, X_test, y_train, y_test\n",
    "\n",
    "\n",
    "scores = []\n",
    "Output_name = 'JobSatisfaction'\n",
    "for column in df.columns:\n",
    "    try:\n",
    "        work_env = df[[column, Output_name]]\n",
    "        cat_df = work_env.select_dtypes(include=['object']).copy()\n",
    "        test_score, train_score, lm_model, X_train, X_test, y_train, y_test = clean_fit_linear_mod(work_env, Output_name, cat_df, dummy_na=True)\n",
    "        scores.append({column, train_score})\n",
    "        #print(\"The rsquared on the training data was {}.  The rsquared on the test data was {}.\".format(train_score, test_score))\n",
    "    except:\n",
    "        scores.append(0)\n",
    "print(scores)"
   ]
  },
  {
   "cell_type": "code",
   "execution_count": 7,
   "metadata": {},
   "outputs": [
    {
     "name": "stdout",
     "output_type": "stream",
     "text": [
      "[{0.002386198109234239, 'ProgramHobby'}]\n"
     ]
    }
   ],
   "source": [
    "print(scores)"
   ]
  },
  {
   "cell_type": "code",
   "execution_count": null,
   "metadata": {},
   "outputs": [],
   "source": []
  }
 ],
 "metadata": {
  "kernelspec": {
   "display_name": "Python 3",
   "language": "python",
   "name": "python3"
  },
  "language_info": {
   "codemirror_mode": {
    "name": "ipython",
    "version": 3
   },
   "file_extension": ".py",
   "mimetype": "text/x-python",
   "name": "python",
   "nbconvert_exporter": "python",
   "pygments_lexer": "ipython3",
   "version": "3.10.8"
  },
  "orig_nbformat": 4
 },
 "nbformat": 4,
 "nbformat_minor": 2
}
