{
 "cells": [
  {
   "cell_type": "code",
   "execution_count": 9,
   "metadata": {},
   "outputs": [
    {
     "name": "stdout",
     "output_type": "stream",
     "text": [
      "         Respondent  CareerSatisfaction  JobSatisfaction  HoursPerWeek  \\\n",
      "count  51392.000000        42695.000000     40376.000000  20600.000000   \n",
      "mean   25696.500000            7.300574         6.957078      3.952282   \n",
      "std    14835.736854            1.955444         2.167652      7.564722   \n",
      "min        1.000000            0.000000         0.000000      0.000000   \n",
      "25%    12848.750000            6.000000         6.000000      1.000000   \n",
      "50%    25696.500000            8.000000         7.000000      1.000000   \n",
      "75%    38544.250000            9.000000         8.000000      4.000000   \n",
      "max    51392.000000           10.000000        10.000000     40.000000   \n",
      "\n",
      "       StackOverflowSatisfaction         Salary  ExpectedSalary  \n",
      "count               36592.000000   12891.000000     2566.000000  \n",
      "mean                    8.429875   56298.480641    33142.220468  \n",
      "std                     1.390635   39880.905277    30162.988829  \n",
      "min                     0.000000       0.000000        0.000000  \n",
      "25%                     8.000000   26440.371839     4490.492484  \n",
      "50%                     9.000000   50000.000000    29364.263691  \n",
      "75%                    10.000000   80000.000000    50403.225806  \n",
      "max                    10.000000  197000.000000   187500.000000  \n",
      "(51392, 154)\n"
     ]
    }
   ],
   "source": [
    "import matplotlib\n",
    "import numpy as np\n",
    "import pandas as pd\n",
    "import os\n",
    "df = pd.read_csv ('datasets/survey_results_public.csv')\n",
    "print(df.describe())\n",
    "print(df.shape)"
   ]
  },
  {
   "cell_type": "code",
   "execution_count": null,
   "metadata": {},
   "outputs": [],
   "source": []
  }
 ],
 "metadata": {
  "kernelspec": {
   "display_name": "Python 3",
   "language": "python",
   "name": "python3"
  },
  "language_info": {
   "codemirror_mode": {
    "name": "ipython",
    "version": 3
   },
   "file_extension": ".py",
   "mimetype": "text/x-python",
   "name": "python",
   "nbconvert_exporter": "python",
   "pygments_lexer": "ipython3",
   "version": "3.10.8"
  },
  "orig_nbformat": 4
 },
 "nbformat": 4,
 "nbformat_minor": 2
}
